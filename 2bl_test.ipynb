{
 "cells": [
  {
   "cell_type": "markdown",
   "metadata": {},
   "source": [
    "**Test 2BL: Ley de Benford**\n",
    "\n",
    "El test de Benford para el segundo dígito es un método estadístico que resulta útil en la detección de anomalías o manipulación de resultados electorales [[mebane2006]](https://www.researchgate.net/publication/237341643_Election_Forensics_Vote_Counts_and_Benford's_Law).\n",
    "\n",
    "En el contexto de anális forense de elecciones, el test 2BL (*2nd digit Benford's Law Test* o en español test del segundo dígito de la ley de Benford) consiste en comparar la distribución del segundo dígito más significativo del conteo de votos en recintos con la distribución generalizada de Benford para el segundo dígito.\n",
    "\n",
    "La distribución generalizada de Benford se adapta a la distribución natural de datos de elecciones.\n",
    "\n",
    "La distribución $2BL$ usa las siguientes frecuencias $q_0,\\ldots,q_9$ de los dígitos $0,\\ldots,9$:\n",
    "\n",
    "$$\n",
    "(q_0,\\ldots,q_9) = (0.120, 0.114, 0.109, 0.104, 0.100, 0.097, 0.093, 0.090, 0.088, 0.085)\n",
    "$$\n",
    "\n",
    "En los siguientes diagramas comparamos el la distribución $2BL$ con la distribución calculada de los conteos por partido.\n",
    "\n",
    "Sólo consideramos los partidos \"CC\", \"MAS - IPSP\", \"21F\" Y \"PDC\", porque los demás partidos no alcanzan valores lo suficientemente altos en un número suficiente de actas para ser considerado en el test.\n",
    "\n",
    "Se evidencia que los conteos de votos correspondientes a los partidos \"CC\" y \"MAS - IPSP\", tanto en elecciones presidenciales como para diputados, presentan una distribución aleatoria uniforme, mientras que los partidos \"21F\" y \"PDC\" presentan una tendencia decreciente.\n",
    "\n",
    "La distribución aleatoria uniforme evidenciada en los conteos de votos de \"CC\" y \"\"MAS - IPSP\" representa un fallo claro del test $2BL$. "
   ]
  },
  {
   "cell_type": "code",
   "execution_count": 157,
   "metadata": {},
   "outputs": [
    {
     "data": {
      "application/vnd.jupyter.widget-view+json": {
       "model_id": "409aeb821a184ff2a9c1d08b98f7a0b6",
       "version_major": 2,
       "version_minor": 0
      },
      "text/plain": [
       "VBox(children=(HBox(children=(Dropdown(description='Elección:', options=('Presidente y Vicepresidente', 'Diput…"
      ]
     },
     "metadata": {},
     "output_type": "display_data"
    }
   ],
   "source": [
    "import pandas as pd\n",
    "import os\n",
    "from os.path import join, exists\n",
    "import plotly.graph_objects as go\n",
    "import ipywidgets as widgets\n",
    "\n",
    "data_path = join(os.getcwd(),\"data\")\n",
    "csv_filename = \"acta.2019.10.25.21.09.30.csv\" \n",
    "\n",
    "df = pd.read_csv(join(data_path,csv_filename))\n",
    "\n",
    "partidos = ['CC','MAS - IPSP','21F','PDC']\n",
    "elecciones = [\"Presidente y Vicepresidente\", \"Diputados Uninominales\"]\n",
    "q_is = [0.12, 0.114, 0.109, 0.104, 0.1, 0.097, 0.093, 0.09, 0.088, 0.085]\n",
    "\n",
    "def count_second_digit(eleccion, partido):\n",
    "    edf = df[(df[partido] >= 10)&(df[\"Elección\"] == elecciones[0])].copy()\n",
    "\n",
    "    second_digit_counts = {digit: 0 for digit in range(10)}\n",
    "\n",
    "    for val in edf[partido]:\n",
    "        second_digit_counts[val % 10] += 1\n",
    "        \n",
    "    return (edf.shape[0], list(second_digit_counts.values()))\n",
    "\n",
    "def get_chi_square_2bl(n, n_is):\n",
    "    return(sum([(n_i - (n * q_i))**2 / (n * q_i) for n_i,q_i in zip(n_is,q_is)]))\n",
    "\n",
    "def get_chi_square_uniform(n, n_is):\n",
    "    return(sum([(n_i - (n / 10))**2 / (n / 10) for n_i in n_is]))\n",
    "\n",
    "n, n_is = count_second_digit(elecciones[0],partidos[0])\n",
    "chi_2bl = get_chi_square_2bl(n, n_is)\n",
    "chi_uniform = get_chi_square_uniform(n, n_is)\n",
    "\n",
    "partidos_dropdown = widgets.Dropdown(value=\"CC\",options=partidos,description=\"Partido:\")\n",
    "eleccion_dropdown = widgets.Dropdown(value=\"Presidente y Vicepresidente\",options=elecciones,description=\"Elección:\")\n",
    "figure_widget = go.FigureWidget()\n",
    "figure_widget.layout.title = \"Distribución 2do Dígito\"\n",
    "figure_widget.layout.xaxis = dict(title=\"Valor 2do dígito\", dtick=1)\n",
    "figure_widget.layout.yaxis = dict(title=\"Frecuencia\")\n",
    "figure_widget.add_scatter(y=q_is, name=\"Benford\")\n",
    "figure_widget.add_bar(y=[n_i / n for n_i in n_is], name=partidos[0])\n",
    "n_html = widgets.HTML(value=f\"Conteos considerados: {n}\")\n",
    "chi_2bl_label = widgets.Label(value=r\"$\\chi^{2}_{2BL}$\" + \" = \" + \"{:.2f}\".format(chi_2bl))\n",
    "chi_uniform_label = widgets.Label(value=r\"$\\chi^{2}_{U}$\" + \" = \" + \"{:.2f}\".format(chi_uniform))\n",
    "\n",
    "def update_figure(eleccion,partido):\n",
    "    n, n_is = count_second_digit(eleccion,partido)\n",
    "    chi_2bl = get_chi_square_2bl(n, n_is)\n",
    "    chi_uniform = get_chi_square_uniform(n, n_is)\n",
    "    figure_widget.data[1].y = [n_i / n for n_i in n_is]\n",
    "    figure_widget.data[1].name = partido\n",
    "    n_html.value = f\"Conteos considerados: {n}\"\n",
    "    chi_2bl_label.value = r\"$\\chi^{2}_{2BL}$\" + \" = \" + \"{:.2f}\".format(chi_2bl)\n",
    "    chi_uniform_label.value = r\"$\\chi^{2}_{U}$\" + \" = \" + \"{:.2f}\".format(chi_uniform)\n",
    "\n",
    "def on_eleccion_dropdown_change(change):\n",
    "    eleccion = change[\"new\"]\n",
    "    partido = partidos_dropdown.value\n",
    "    update_figure(eleccion,partido)\n",
    "\n",
    "def on_partidos_dropdown_change(change):\n",
    "    partido = change[\"new\"]\n",
    "    eleccion = eleccion_dropdown.value\n",
    "    update_figure(eleccion,partido)\n",
    "\n",
    "eleccion_dropdown.observe(on_eleccion_dropdown_change,names=\"value\")\n",
    "partidos_dropdown.observe(on_partidos_dropdown_change,names=\"value\")\n",
    "\n",
    "widgets.VBox([\n",
    "    widgets.HBox([eleccion_dropdown,n_html,]),\n",
    "    widgets.HBox([partidos_dropdown,chi_2bl_label, chi_uniform_label]),\n",
    "    figure_widget\n",
    "])"
   ]
  },
  {
   "cell_type": "markdown",
   "metadata": {},
   "source": [
    "**Comparación de distribuciones chi-cuadrática ($\\chi^2$)**\n",
    "\n",
    "Para comparar dos distribuciones es comúm usar expresiones del tipo *chi-cuadráticos* ($\\chi^2$).\n",
    "\n",
    "Para la distribución $2BL$ especificada por los valores $q_i$, considerando $n$ conteos de votos, Si $n_i$ representa el número de ocurrencias del segundo dígito $i$ en las actas consideradas, la expresión $\\chi^2_{2BL}$ es la siguiente:\n",
    "\n",
    "$$\n",
    "\\chi^2_{2BL} = \\sum_{i=0}^{9} \\frac{(n_i-nq_i)^2}{nq_i}\n",
    "$$\n",
    "\n",
    "Equivalentemente, consideramos la distribución aleatoria uniforme, cuya expresión chi-cuadrática $\\chi^2_{U}$ es la siguiente:\n",
    "\n",
    "$$\n",
    "\\chi^2_{U} = \\sum_{i=0}^{9} \\frac{(n_i-n/10)^2}{n/10}\n",
    "$$\n",
    "\n",
    "Con un nivel de significancia de $\\alpha = 0.05$, el valor crítico de la expresión es de 16.9.  \n",
    "\n",
    "De esta manera que podemos evidenciar que la distribución de segundos dígitos del partido \"MAS - IPSP\" y la distribución aleatoria uniforme están significativamente relacionadas, tanto en elecciones presidenciales como en elecciones para diputados.\n",
    "\n",
    "Los segundos dígitos de ningún partido se encuentra significativamente relacionado con la distribución Benford. \n",
    "\n",
    "También se observa que los segundos dígitos de los partidos \"CC\" y \"MAS - IPSP\" están más relacionados con la distribución aleatoria que con la distribución Benford, mientras que los segundos dígitos de los partidos \"21F\" y \"PDC\" se encuentran más relacionados con la distribución Benford que con la distribución aleatoria uniforme.  "
   ]
  }
 ],
 "metadata": {
  "kernelspec": {
   "display_name": "Python 3",
   "language": "python",
   "name": "python3"
  },
  "language_info": {
   "codemirror_mode": {
    "name": "ipython",
    "version": 3
   },
   "file_extension": ".py",
   "mimetype": "text/x-python",
   "name": "python",
   "nbconvert_exporter": "python",
   "pygments_lexer": "ipython3",
   "version": "3.7.4"
  }
 },
 "nbformat": 4,
 "nbformat_minor": 2
}
